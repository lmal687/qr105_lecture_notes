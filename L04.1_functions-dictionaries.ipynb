{
  "cells": [
    {
      "cell_type": "markdown",
      "id": "417081e8-4676-4e37-9a64-f8be9a790a67",
      "metadata": {
        "id": "417081e8-4676-4e37-9a64-f8be9a790a67"
      },
      "source": [
        "# Lecture 4.1: Functions & Dictionaries"
      ]
    },
    {
      "cell_type": "markdown",
      "id": "260fe6af-d160-48cc-aef9-6f0908172f20",
      "metadata": {
        "id": "260fe6af-d160-48cc-aef9-6f0908172f20"
      },
      "source": [
        "Up to this point, we've only written basic blocks of code. We've been able to change inputs by changing the values stored in variables and then re-running the cell. What would be better is if we had a *function* that allowed us to re-use this block of code over and over again without having to copy or change anything. This would also allow us to combine calculations or code blocks more easily.\n",
        "\n",
        "Eventually, we will organize these functions in a single file to create a python *module* that so we can easily use our functions in future projects without needing to write anything new.\n",
        "\n",
        "## How to Write a Function in Python\n",
        "\n",
        "Functions in Python have the following basic structure\n",
        "\n",
        "```\n",
        "def function_name(parameters):\n",
        "    \"\"\"\n",
        "    Docstring (optional) to explain what the function does.\n",
        "    \"\"\"\n",
        "    \n",
        "    # Function body: Statements that define the function's behavior\n",
        "    statement_1\n",
        "    statement_2\n",
        "    # ... more statements\n",
        "    \n",
        "    return value  # Optional: Return a result or value (if needed)\n",
        "```\n",
        "\n",
        "* `def` – A function starts with the `def` keyword, followed by the function name, and parentheses `()` that may include parameters.\n",
        "* `function_name` – The name of the function (it should be descriptive of what the function does). It must follow the same rules for defining variables.\n",
        "* `parameters` – A list of inputs that the function accepts. Inside the parentheses, you can define parameters (also known as arguments) that the function will accept. These are optional; a function can have no parameters.\n",
        "* Colon `:` - After the parentheses, a colon : is used to indicate the start of the function's body.\n",
        "* Function Body – The body of the function contains the statements that define what the function does. The body must be indented (typically 4 spaces i.e. a single tab) to indicate it is part of the function.\n",
        "* Docstring (optional) – A string in triple quotes `\"\"\"` that describes what the function does. It's optional but recommended for clarity. Think of this as an important comment for your function that anyone should read if they need more information.\n",
        "* `return` (optional) – Used to return a value to the caller. The function may include a return statement to send a result back to where the function was called. This is optional; if no return is used, the function will return None by default.\n",
        "\n"
      ]
    },
    {
      "cell_type": "markdown",
      "id": "7a23ffd3-cda4-4e36-9631-074607068fde",
      "metadata": {
        "id": "7a23ffd3-cda4-4e36-9631-074607068fde"
      },
      "source": [
        "## An Example Function - from Mathematics\n",
        "\n",
        "First, we need to *define* the function.\n",
        "\n",
        "Let's relate this to what we've seen in other math classes. Suppose we want to define the function $f(x) = x^2$. This would have the python syntax seen below.\n",
        "```\n",
        "def f(x):\n",
        "    return x**2\n",
        "```\n",
        "\n",
        "The `def` tells python that we are defining a function, `f` is what we are naming the function (and how we will call it in the future), and `return` is what we will get as an output or result. A function does not always need a `return` statement.\n",
        "\n",
        "> &#128187; **Tech Note**  \n",
        "When using a jupyter notebook, the output will automatically be printed to the screen. This will not be the case if we called this function within a script file unless we include a print statement.\n",
        "\n",
        "Not all function output should be printed - sometimes we need to use the result of one function inside another function.\n"
      ]
    },
    {
      "cell_type": "code",
      "execution_count": null,
      "id": "a0690742-2765-4fef-9566-19a951ab74f2",
      "metadata": {
        "id": "a0690742-2765-4fef-9566-19a951ab74f2"
      },
      "outputs": [],
      "source": [
        "def f(x):\n",
        "    \"\"\"\n",
        "    This function calculates the value of x*x\n",
        "    \"\"\"\n",
        "    return x**2"
      ]
    },
    {
      "cell_type": "markdown",
      "id": "7cf545f7-1cb7-48cb-9a4b-1be7f3013a26",
      "metadata": {
        "id": "7cf545f7-1cb7-48cb-9a4b-1be7f3013a26"
      },
      "source": [
        "Second, we will *call* the function in order to use it."
      ]
    },
    {
      "cell_type": "code",
      "execution_count": null,
      "id": "a5136a36-fb37-4765-981e-374a9e7a8c6f",
      "metadata": {
        "id": "a5136a36-fb37-4765-981e-374a9e7a8c6f",
        "outputId": "775c3589-a48b-4e9b-a5f4-5c92adeaf73f",
        "colab": {
          "base_uri": "https://localhost:8080/"
        }
      },
      "outputs": [
        {
          "output_type": "execute_result",
          "data": {
            "text/plain": [
              "4"
            ]
          },
          "metadata": {},
          "execution_count": 4
        }
      ],
      "source": [
        "# use a function once\n",
        "f(2)"
      ]
    },
    {
      "cell_type": "code",
      "execution_count": null,
      "id": "e7e6ee17-6621-4a3b-946e-fbcf0e9d952d",
      "metadata": {
        "id": "e7e6ee17-6621-4a3b-946e-fbcf0e9d952d",
        "outputId": "cd83ae69-2c4b-4735-e7d2-23ff2a4c7341",
        "colab": {
          "base_uri": "https://localhost:8080/"
        }
      },
      "outputs": [
        {
          "output_type": "execute_result",
          "data": {
            "text/plain": [
              "[4, 16, 25, 1296]"
            ]
          },
          "metadata": {},
          "execution_count": 5
        }
      ],
      "source": [
        "# use a function in a list\n",
        "[f(2), f(4), f(5), f(36)]"
      ]
    },
    {
      "cell_type": "code",
      "execution_count": null,
      "id": "d3417ec9-76d3-48fc-b2b0-940eb9fb85d9",
      "metadata": {
        "id": "d3417ec9-76d3-48fc-b2b0-940eb9fb85d9",
        "outputId": "b69a907d-78cf-45ac-cc20-00d74f3d3522",
        "colab": {
          "base_uri": "https://localhost:8080/"
        }
      },
      "outputs": [
        {
          "output_type": "stream",
          "name": "stdout",
          "text": [
            "1\n",
            "4\n",
            "9\n",
            "16\n",
            "25\n",
            "36\n",
            "49\n",
            "64\n",
            "81\n",
            "100\n"
          ]
        }
      ],
      "source": [
        "# use a function repeatedly in a loop\n",
        "vals = [1, 2, 3, 4, 5, 6, 7, 8, 9, 10]\n",
        "\n",
        "for i in range(len(vals)):\n",
        "\n",
        "    print(f(vals[i]))"
      ]
    },
    {
      "cell_type": "code",
      "execution_count": null,
      "id": "bbf2837d-6248-4a8e-a3d0-877cea137b10",
      "metadata": {
        "id": "bbf2837d-6248-4a8e-a3d0-877cea137b10",
        "outputId": "f8ecc30c-a7f3-420d-da8c-b7cd2f448893",
        "colab": {
          "base_uri": "https://localhost:8080/"
        }
      },
      "outputs": [
        {
          "output_type": "execute_result",
          "data": {
            "text/plain": [
              "16"
            ]
          },
          "metadata": {},
          "execution_count": 7
        }
      ],
      "source": [
        "# we can nest functions\n",
        "\n",
        "f(f(2)) # calculates (2^2)^2 = 2^4"
      ]
    },
    {
      "cell_type": "markdown",
      "id": "352c2eaf-f158-4090-b5b0-44e6fb17c52d",
      "metadata": {
        "id": "352c2eaf-f158-4090-b5b0-44e6fb17c52d"
      },
      "source": [
        "## An Example Function - Using strings\n",
        "\n",
        "We can define a function outside of mathematical applications. Below we define a function that concatenates two strings (i.e. add them together)."
      ]
    },
    {
      "cell_type": "code",
      "execution_count": null,
      "id": "a6543cd4-8266-411a-9144-e4941792fcbd",
      "metadata": {
        "id": "a6543cd4-8266-411a-9144-e4941792fcbd"
      },
      "outputs": [],
      "source": [
        "def concatenate_strings(string1, string2):\n",
        "    \"\"\"\n",
        "    This function takes two strings and returns their concatenation.\n",
        "    \"\"\"\n",
        "    result = string1 + string2\n",
        "    return result"
      ]
    },
    {
      "cell_type": "markdown",
      "id": "a21d1437-9caa-4840-aeeb-c99bf101ddc0",
      "metadata": {
        "id": "a21d1437-9caa-4840-aeeb-c99bf101ddc0"
      },
      "source": [
        "Note that our inputs to the function do not need to have the same names that they do in the function definition."
      ]
    },
    {
      "cell_type": "code",
      "execution_count": null,
      "id": "86795520-be7c-4d67-b6d0-2ea447af4767",
      "metadata": {
        "id": "86795520-be7c-4d67-b6d0-2ea447af4767",
        "outputId": "013b1605-cf92-465c-b888-e8ee24a4e921",
        "colab": {
          "base_uri": "https://localhost:8080/",
          "height": 35
        }
      },
      "outputs": [
        {
          "output_type": "execute_result",
          "data": {
            "text/plain": [
              "'This is the first part and this is the second part'"
            ],
            "application/vnd.google.colaboratory.intrinsic+json": {
              "type": "string"
            }
          },
          "metadata": {},
          "execution_count": 9
        }
      ],
      "source": [
        "first_part = 'This is the first part '\n",
        "second_part = 'and this is the second part'\n",
        "\n",
        "concatenate_strings(first_part, second_part)"
      ]
    },
    {
      "cell_type": "markdown",
      "id": "951c5098-047a-459f-aac2-ff6346999eee",
      "metadata": {
        "id": "951c5098-047a-459f-aac2-ff6346999eee"
      },
      "source": [
        "We can also store the output of our function in a variable"
      ]
    },
    {
      "cell_type": "code",
      "execution_count": null,
      "id": "df179932-3d30-40b8-ab9a-5d81786777f5",
      "metadata": {
        "id": "df179932-3d30-40b8-ab9a-5d81786777f5",
        "outputId": "b9f0fb34-1efa-4504-e7b3-583adb5586d7",
        "colab": {
          "base_uri": "https://localhost:8080/"
        }
      },
      "outputs": [
        {
          "output_type": "stream",
          "name": "stdout",
          "text": [
            "The first thing and the second thing\n"
          ]
        }
      ],
      "source": [
        "thing_1 = 'The first thing '\n",
        "thing_2 = 'and the second thing'\n",
        "\n",
        "things_together = concatenate_strings(thing_1, thing_2)\n",
        "\n",
        "# to see the result, use a print statement\n",
        "print(things_together)"
      ]
    },
    {
      "cell_type": "markdown",
      "id": "cc00ecf3-f81c-4011-9537-1bf65cff9658",
      "metadata": {
        "id": "cc00ecf3-f81c-4011-9537-1bf65cff9658"
      },
      "source": [
        "#### Try it yourself\n",
        "\n",
        "In the blank code cell below, write a function called `generate_quest` that turns the following code block into a function"
      ]
    },
    {
      "cell_type": "code",
      "execution_count": null,
      "id": "fc88e6fd-15b8-4b25-bb52-52e5831896c2",
      "metadata": {
        "id": "fc88e6fd-15b8-4b25-bb52-52e5831896c2",
        "outputId": "f679fe7d-df35-4179-81e1-e494a9694d30",
        "colab": {
          "base_uri": "https://localhost:8080/"
        }
      },
      "outputs": [
        {
          "output_type": "stream",
          "name": "stdout",
          "text": [
            "Your mission is to retrieve a lost artifact in a forgotten temple, but it is protected by an ancient curse. If successful, you will receive a legendary weapon.\n"
          ]
        }
      ],
      "source": [
        "# quest variables\n",
        "objective = 'retrieve a lost artifact'\n",
        "location = 'a forgotten temple'\n",
        "obstacle = 'protected by an ancient curse'\n",
        "reward = 'a legendary weapon'\n",
        "\n",
        "# quest prompt string\n",
        "quest = f'Your mission is to {objective} in {location}, but it is {obstacle}. If successful, you will receive {reward}.'\n",
        "\n",
        "# print quest\n",
        "\n",
        "print(quest)"
      ]
    },
    {
      "cell_type": "code",
      "execution_count": 32,
      "id": "8cb3652c-c199-4bc9-a657-219f12891cbb",
      "metadata": {
        "id": "8cb3652c-c199-4bc9-a657-219f12891cbb",
        "colab": {
          "base_uri": "https://localhost:8080/",
          "height": 35
        },
        "outputId": "6bf525d4-bb85-4178-d2a8-9c8eaef69f72"
      },
      "outputs": [
        {
          "output_type": "execute_result",
          "data": {
            "text/plain": [
              "'Your mission is to retrieve a lost artifact in a forgotten temple, but it is protected by an ancient curse. If successful, you will receive a legendary weapon.'"
            ],
            "application/vnd.google.colaboratory.intrinsic+json": {
              "type": "string"
            }
          },
          "metadata": {},
          "execution_count": 32
        }
      ],
      "source": [
        "# # quest generator function\n",
        "\n",
        "## attempt 1\n",
        "# def quest_generator():\n",
        "#   # quest variables\n",
        "#   objective = 'retrieve a lost artifact'\n",
        "#   location = 'a forgotten temple'\n",
        "#   obstacle = 'protected by an ancient curse'\n",
        "#   reward = 'a legendary weapon'\n",
        "\n",
        "#   # quest prompt string\n",
        "#   quest = f'Your mission is to {objective} in {location}, but it is {obstacle}. If successful, you will receive {reward}.'\n",
        "\n",
        "#   # print quest\n",
        "\n",
        "#   print(quest)\n",
        "\n",
        "# # run the function\n",
        "# quest_generator()\n",
        "\n",
        "## attempt 2\n",
        "\n",
        "# def quest_generator(objective, location, obstacle, reward):\n",
        "\n",
        "#   # quest prompt string\n",
        "#   quest = f'Your mission is to {objective} in {location}, but it is {obstacle}. If successful, you will receive {reward}.'\n",
        "\n",
        "#   # print quest\n",
        "\n",
        "#   print(quest)\n",
        "\n",
        "# # quest variables\n",
        "# objective = 'retrieve a lost artifact'\n",
        "# location = 'a forgotten temple'\n",
        "# obstacle = 'protected by an ancient curse'\n",
        "# reward = 'a legendary weapon'\n",
        "\n",
        "# # run the function\n",
        "# quest_generator(objective, location, obstacle, reward)\n",
        "\n",
        "## attempt 3\n",
        "\n",
        "def quest_generator(objective, location, obstacle, reward):\n",
        "\n",
        "  # quest prompt string\n",
        "  quest = f'Your mission is to {objective} in {location}, but it is {obstacle}. If successful, you will receive {reward}.'\n",
        "\n",
        "  # print quest\n",
        "\n",
        "  return quest\n",
        "\n",
        "# quest variables\n",
        "objective = 'retrieve a lost artifact'\n",
        "location = 'a forgotten temple'\n",
        "obstacle = 'protected by an ancient curse'\n",
        "reward = 'a legendary weapon'\n",
        "\n",
        "# run the function\n",
        "game_start = quest_generator(objective, location, obstacle, reward)\n",
        "game_start\n",
        "\n"
      ]
    },
    {
      "cell_type": "markdown",
      "id": "0258c5cf-fcfb-47c7-b5f5-d058af39abce",
      "metadata": {
        "id": "0258c5cf-fcfb-47c7-b5f5-d058af39abce"
      },
      "source": [
        "## Dictionaries\n",
        "\n",
        "This was covered in Lecture 1.2 but we'll expand on how to use dictionaries here.\n",
        "\n",
        "Dictionaries work like phone books (if you even know what those are). To find a phone number in a phone book, you look up the person's name, then get the number. The names in dictionaries are called _keys_ and the phone numbers are _values_. These are refered to as _key - value pairs_."
      ]
    },
    {
      "cell_type": "code",
      "execution_count": null,
      "id": "48a5a279-9999-43a7-987f-62f8e1d30910",
      "metadata": {
        "id": "48a5a279-9999-43a7-987f-62f8e1d30910"
      },
      "outputs": [],
      "source": [
        "fruit_prices = {\n",
        "    'apple': 3,\n",
        "    'banana': 5,\n",
        "    'cherry': 2,\n",
        "    'date': 8,\n",
        "    'elderberry': 6\n",
        "}"
      ]
    },
    {
      "cell_type": "markdown",
      "id": "9b2767dc-2276-4f4b-a487-3312f244b75a",
      "metadata": {
        "id": "9b2767dc-2276-4f4b-a487-3312f244b75a"
      },
      "source": [
        "### Accessing elements of a dictionary\n",
        "\n",
        "You access values by using the key in square brackets `[]` or with the `get()` method."
      ]
    },
    {
      "cell_type": "code",
      "execution_count": null,
      "id": "54b29f14-ae82-4c49-a330-d478efdc5981",
      "metadata": {
        "id": "54b29f14-ae82-4c49-a330-d478efdc5981",
        "outputId": "34b1765b-9f22-42e8-d488-999b43095750",
        "colab": {
          "base_uri": "https://localhost:8080/"
        }
      },
      "outputs": [
        {
          "output_type": "stream",
          "name": "stdout",
          "text": [
            "3\n",
            "8\n"
          ]
        }
      ],
      "source": [
        "print(fruit_prices['apple'])  # Output: Alice\n",
        "\n",
        "print(fruit_prices.get('date'))  # Output: 25\n"
      ]
    },
    {
      "cell_type": "markdown",
      "id": "1f8fc61a-f734-40c9-a657-441547ba9e2e",
      "metadata": {
        "id": "1f8fc61a-f734-40c9-a657-441547ba9e2e"
      },
      "source": [
        "Checking if a key is in the dictionary"
      ]
    },
    {
      "cell_type": "code",
      "execution_count": null,
      "id": "649f5c09-e063-482b-9086-87739fc8a49c",
      "metadata": {
        "id": "649f5c09-e063-482b-9086-87739fc8a49c",
        "outputId": "9ab87911-c3e5-4be2-95d2-892fe20f4a56",
        "colab": {
          "base_uri": "https://localhost:8080/"
        }
      },
      "outputs": [
        {
          "output_type": "stream",
          "name": "stdout",
          "text": [
            "Key exists\n"
          ]
        }
      ],
      "source": [
        "if 'cherry' in fruit_prices:\n",
        "    print('Key exists')"
      ]
    },
    {
      "cell_type": "markdown",
      "id": "a54f61a3-f67f-4603-a577-f457dd6c859e",
      "metadata": {
        "id": "a54f61a3-f67f-4603-a577-f457dd6c859e"
      },
      "source": [
        "### Iterating over dictionaries\n",
        "\n",
        "We can iterate over the keys, values or both.\n"
      ]
    },
    {
      "cell_type": "code",
      "execution_count": null,
      "id": "844af8dd-8ba0-4d09-9692-49da9e2d96d7",
      "metadata": {
        "id": "844af8dd-8ba0-4d09-9692-49da9e2d96d7",
        "outputId": "5f418f1a-1dc6-4219-ae94-c29c3392510d",
        "colab": {
          "base_uri": "https://localhost:8080/"
        }
      },
      "outputs": [
        {
          "output_type": "stream",
          "name": "stdout",
          "text": [
            "apple\n",
            "banana\n",
            "cherry\n",
            "date\n",
            "elderberry\n"
          ]
        }
      ],
      "source": [
        "# Iterating over keys\n",
        "for key in fruit_prices.keys():\n",
        "    print(key)"
      ]
    },
    {
      "cell_type": "code",
      "execution_count": null,
      "id": "0d326f97-0e8a-476c-aff6-051a442362cd",
      "metadata": {
        "id": "0d326f97-0e8a-476c-aff6-051a442362cd",
        "outputId": "761476fb-9d24-4984-9582-c1765dfbaaee",
        "colab": {
          "base_uri": "https://localhost:8080/"
        }
      },
      "outputs": [
        {
          "output_type": "stream",
          "name": "stdout",
          "text": [
            "3\n",
            "5\n",
            "2\n",
            "8\n",
            "6\n"
          ]
        }
      ],
      "source": [
        "# Iterating over values\n",
        "for value in fruit_prices.values():\n",
        "    print(value)"
      ]
    },
    {
      "cell_type": "code",
      "execution_count": null,
      "id": "cd43ab67-7bfc-4c79-b44b-af6b71e4fbca",
      "metadata": {
        "id": "cd43ab67-7bfc-4c79-b44b-af6b71e4fbca",
        "outputId": "e7369126-ac75-46ac-8ea1-cfb9420c5d52",
        "colab": {
          "base_uri": "https://localhost:8080/"
        }
      },
      "outputs": [
        {
          "output_type": "stream",
          "name": "stdout",
          "text": [
            "apple 3\n",
            "banana 5\n",
            "cherry 2\n",
            "date 8\n",
            "elderberry 6\n"
          ]
        }
      ],
      "source": [
        "# Iterating over key-value pairs\n",
        "for key, value in fruit_prices.items():\n",
        "    print(key, value)"
      ]
    },
    {
      "cell_type": "markdown",
      "id": "8d044269-8aaf-4e2c-b5b8-fb3130aaf5ad",
      "metadata": {
        "id": "8d044269-8aaf-4e2c-b5b8-fb3130aaf5ad"
      },
      "source": [
        "### Adding, modifying, or removing dictionary items"
      ]
    },
    {
      "cell_type": "code",
      "execution_count": null,
      "id": "c26e248b-1ca5-4d2f-94a0-dfbbfbbf15d1",
      "metadata": {
        "id": "c26e248b-1ca5-4d2f-94a0-dfbbfbbf15d1",
        "outputId": "12140066-5ad6-4bbd-cb4f-85b12304606c",
        "colab": {
          "base_uri": "https://localhost:8080/"
        }
      },
      "outputs": [
        {
          "output_type": "execute_result",
          "data": {
            "text/plain": [
              "4"
            ]
          },
          "metadata": {},
          "execution_count": 18
        }
      ],
      "source": [
        "# modify a value\n",
        "fruit_prices['apple'] = 4\n",
        "\n",
        "fruit_prices['apple']"
      ]
    },
    {
      "cell_type": "code",
      "execution_count": null,
      "id": "a8c8f3a8-a086-4539-98dd-320e560b38a8",
      "metadata": {
        "id": "a8c8f3a8-a086-4539-98dd-320e560b38a8",
        "outputId": "5cee6ba7-8dc7-47c2-bbeb-89e61b5c5f1a",
        "colab": {
          "base_uri": "https://localhost:8080/"
        }
      },
      "outputs": [
        {
          "output_type": "stream",
          "name": "stdout",
          "text": [
            "{'apple': 4, 'banana': 5, 'cherry': 2, 'date': 8, 'elderberry': 6, 'grape': 1}\n"
          ]
        }
      ],
      "source": [
        "# add a key value pair\n",
        "fruit_prices['grape'] = 1\n",
        "\n",
        "# print fruit prices to check\n",
        "print(fruit_prices)"
      ]
    },
    {
      "cell_type": "code",
      "execution_count": null,
      "id": "ae27c8ef-c4db-4352-a0eb-b737045e3c99",
      "metadata": {
        "id": "ae27c8ef-c4db-4352-a0eb-b737045e3c99",
        "outputId": "95a43127-8653-450e-de68-2f07ae4b8c3b",
        "colab": {
          "base_uri": "https://localhost:8080/"
        }
      },
      "outputs": [
        {
          "output_type": "stream",
          "name": "stdout",
          "text": [
            "{'banana': 5, 'cherry': 2, 'date': 8, 'elderberry': 6, 'grape': 1}\n"
          ]
        }
      ],
      "source": [
        "# removing a key value pair\n",
        "\n",
        "del fruit_prices['apple']\n",
        "\n",
        "# print fruit prices to check\n",
        "print(fruit_prices)"
      ]
    },
    {
      "cell_type": "markdown",
      "id": "25320890-f79a-4c37-8ddb-a2fc6b5ae1b8",
      "metadata": {
        "id": "25320890-f79a-4c37-8ddb-a2fc6b5ae1b8"
      },
      "source": [
        "#### Try it yourself\n",
        "\n",
        "You may be familiar with the standard 6 sided die. There are other die that are used in table top games that have a differing number of sides. Values for common dice used are 4 sided (d4), 8 side (d8), 10 sided (d10), 20 sided (d20), and 100 sided (d100).\n",
        "\n",
        "Define a dictionary that stores the value of each type of die. Use the abbreviations (d4, d6, d8, etc) as the keys and an integer value for the number of sides.\n"
      ]
    },
    {
      "cell_type": "code",
      "execution_count": 35,
      "id": "0923d577-c4b2-4469-9f75-48dfe1f5a08d",
      "metadata": {
        "id": "0923d577-c4b2-4469-9f75-48dfe1f5a08d"
      },
      "outputs": [],
      "source": [
        "# dice set dictionary\n",
        "dice_set = {\n",
        "    'd4' : 4,\n",
        "    'd6' : 6,\n",
        "    'd8' : 8,\n",
        "    'd10' : 10\n",
        "}"
      ]
    },
    {
      "cell_type": "code",
      "source": [
        "print(dice_set['d6'])\n",
        "print(dice_set['d10'])"
      ],
      "metadata": {
        "id": "E2dSwYgqm1kK",
        "outputId": "425888e5-4385-432e-f7c2-258dacd6f6fc",
        "colab": {
          "base_uri": "https://localhost:8080/"
        }
      },
      "id": "E2dSwYgqm1kK",
      "execution_count": 34,
      "outputs": [
        {
          "output_type": "stream",
          "name": "stdout",
          "text": [
            "6\n",
            "10\n"
          ]
        }
      ]
    }
  ],
  "metadata": {
    "kernelspec": {
      "display_name": "Python 3 (ipykernel)",
      "language": "python",
      "name": "python3"
    },
    "language_info": {
      "codemirror_mode": {
        "name": "ipython",
        "version": 3
      },
      "file_extension": ".py",
      "mimetype": "text/x-python",
      "name": "python",
      "nbconvert_exporter": "python",
      "pygments_lexer": "ipython3",
      "version": "3.10.13"
    },
    "colab": {
      "provenance": []
    }
  },
  "nbformat": 4,
  "nbformat_minor": 5
}