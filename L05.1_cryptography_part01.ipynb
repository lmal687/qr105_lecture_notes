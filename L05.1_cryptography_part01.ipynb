{
  "cells": [
    {
      "cell_type": "markdown",
      "id": "1eb0ba91-69bc-4857-a5e5-1b3b019eec35",
      "metadata": {
        "id": "1eb0ba91-69bc-4857-a5e5-1b3b019eec35"
      },
      "source": [
        "# Lecture 5.1 Cryptography\n",
        "\n",
        "This notebook is not as expansive as some of the previous ones. The goal here is to explore some code and understand what it's doing in the context of what you read.\n",
        "\n",
        "We'll be doing some in class work along with this notebook."
      ]
    },
    {
      "cell_type": "code",
      "execution_count": 1,
      "id": "d6c8ad74-657b-4152-a9fe-5075c718cf6b",
      "metadata": {
        "id": "d6c8ad74-657b-4152-a9fe-5075c718cf6b"
      },
      "outputs": [],
      "source": [
        "## LIBRARIES - run this cell before any other code cells\n",
        "\n",
        "import matplotlib.pyplot as plt\n",
        "import pandas as pd\n"
      ]
    },
    {
      "cell_type": "markdown",
      "id": "a05b3f34-3032-439b-a840-6d3a4a0d494e",
      "metadata": {
        "id": "a05b3f34-3032-439b-a840-6d3a4a0d494e"
      },
      "source": [
        "## Caesar Cipher\n",
        "\n",
        "Below is a small program to encrypt or decrypt a message using the Caesar Cipher. We'll walk through this together in class. As we walk through it, you may want to add comments."
      ]
    },
    {
      "cell_type": "code",
      "execution_count": 6,
      "id": "240af1f9-2548-419d-b346-266a6104d129",
      "metadata": {
        "id": "240af1f9-2548-419d-b346-266a6104d129",
        "outputId": "54923323-c7cd-4437-a1d1-a9ceadc85165",
        "colab": {
          "base_uri": "https://localhost:8080/"
        }
      },
      "outputs": [
        {
          "output_type": "stream",
          "name": "stdout",
          "text": [
            "Do you want to (e)ncrypt or (d)ecrypt?\n",
            "> d\n",
            "Please enter the key (0 to 25) to use.\n",
            "> 5\n",
            "Enter the message to decrypt.\n",
            "> YTIFD NX RTSIFD\n",
            ">  TODAY IS MONDAY\n"
          ]
        }
      ],
      "source": [
        "# Create a header for the code block\n",
        "header_string = '''\n",
        "CAESAR CIPHER\n",
        "'''\n",
        "print(header_string)\n",
        "\n",
        "# list of symbols you can encrypt/decrypt\n",
        "SYMBOLS = 'ABCDEFGHIJKLMNOPQRSTUVWXYZ'\n",
        "\n",
        "while True:\n",
        "    print('Do you want to (e)ncrypt or (d)ecrypt?')\n",
        "    # making the input lowercase letters\n",
        "    # response is a variable\n",
        "    response = input('> ').lower()\n",
        "    # checking if response starts with e or starts with d\n",
        "    if response.startswith('e'):\n",
        "        mode = 'encrypt'\n",
        "        break\n",
        "    elif response.startswith('d'):\n",
        "        mode = 'decrypt'\n",
        "        break\n",
        "\n",
        "    print('Please enter the letter e or d.')\n",
        "\n",
        "while True:\n",
        "    # maxKey is 25; 26-1 because if you went 26 steps you would be back at the beginning\n",
        "    maxKey = len(SYMBOLS) - 1\n",
        "    print(f'Please enter the key (0 to {maxKey}) to use.')\n",
        "    # making the input uppercase letters\n",
        "    response = input('> ').upper() # not sure why .upper() is used if you want a number\n",
        "    if not response.isdecimal():\n",
        "        continue\n",
        "    # need to make it an int(response) to get a string output\n",
        "    if 0 <= int(response) < len(SYMBOLS):\n",
        "        key = int(response)\n",
        "        break\n",
        "\n",
        "print('Enter the message to {}.'.format(mode))\n",
        "message = input('> ')\n",
        "# making the message uppercase, because the list of symbols was given in uppercase\n",
        "message = message.upper()\n",
        "\n",
        "translated = ''\n",
        "\n",
        "# for is looking at every item in the string\n",
        "for symbol in message:\n",
        "\n",
        "    if symbol in SYMBOLS:\n",
        "        # finding where the letter is in the list of symbols\n",
        "        num = SYMBOLS.find(symbol)\n",
        "        # shifting by the shift value, making the secret shifted value\n",
        "        if mode == 'encrypt':\n",
        "            num = num + key\n",
        "        # taking away the shift, back to regular/the start\n",
        "        elif mode == 'decrypt':\n",
        "            num = num - key\n",
        "\n",
        "        # Handle the wrap-around, starts at a again once you reach the end\n",
        "        if num >= len(SYMBOLS):\n",
        "            num = num - len(SYMBOLS)\n",
        "        elif num < 0:\n",
        "            num = num + len(SYMBOLS)\n",
        "\n",
        "        # Add encrypted/decrypted number's symbol to translated:\n",
        "        translated = translated + SYMBOLS[num]\n",
        "    else:\n",
        "        # Just add the symbol without encrypting/decrypting:\n",
        "        translated = translated + symbol\n",
        "\n",
        "print('> ',translated)\n"
      ]
    },
    {
      "cell_type": "code",
      "source": [
        "# Create a header for the code block\n",
        "header_string = '''\n",
        "-------------\n",
        "CAESAR CIPHER\n",
        "-------------\n",
        "'''\n",
        "# this can print something x amount of times instead of writing it that many times:\n",
        "# don't know how to make * bigger, need to Google that\n",
        "{20*'-='}\n",
        "print(header_string)"
      ],
      "metadata": {
        "id": "37b5Dckn5pye",
        "outputId": "74bdcdb9-701f-4197-e5a4-2504d8839024",
        "colab": {
          "base_uri": "https://localhost:8080/"
        }
      },
      "id": "37b5Dckn5pye",
      "execution_count": 18,
      "outputs": [
        {
          "output_type": "stream",
          "name": "stdout",
          "text": [
            "\n",
            "-------------\n",
            "CAESAR CIPHER\n",
            "-------------\n",
            "\n"
          ]
        }
      ]
    },
    {
      "cell_type": "markdown",
      "id": "977554e8-1487-4bed-8e6d-040b7043f950",
      "metadata": {
        "id": "977554e8-1487-4bed-8e6d-040b7043f950"
      },
      "source": [
        "### 🔍 Exploring the Code\n",
        "\n",
        "1. Try typing in some messages and encrypting/decrypting them.\n",
        "2. What does `message.upper()` do in the code above do?\n",
        "> Changes the letter to uppercase\n",
        "3. What happens if you change `int(response)` to just response on line 22?\n",
        "> You won't get a string for the output"
      ]
    },
    {
      "cell_type": "markdown",
      "id": "f3c215b9-5fa8-4dcb-b5d8-3b5be8481cba",
      "metadata": {
        "id": "f3c215b9-5fa8-4dcb-b5d8-3b5be8481cba"
      },
      "source": [
        "### 🦾 Try it Yourself\n",
        "\n",
        "We're going to Make some edits to this code.\n",
        "\n",
        "1. Walk through the code, add in some comments to explain what is happening at major steps.\n",
        "2. Change any `print` statements for which you see the use of `format` so that they use `f`strings instead.\n",
        "3. Add a fancy header to the code that gives a title or opening to the code (Do a Google search for ASCII art)"
      ]
    },
    {
      "cell_type": "code",
      "execution_count": null,
      "id": "3ad41894-7a44-42fa-aa63-44f919d5c84c",
      "metadata": {
        "id": "3ad41894-7a44-42fa-aa63-44f919d5c84c"
      },
      "outputs": [],
      "source": []
    },
    {
      "cell_type": "code",
      "execution_count": null,
      "id": "f79824ce-6377-4155-bb68-fa36c7febf36",
      "metadata": {
        "id": "f79824ce-6377-4155-bb68-fa36c7febf36"
      },
      "outputs": [],
      "source": []
    },
    {
      "cell_type": "markdown",
      "id": "23eda571-905c-4cd2-b4a5-096dd6de647e",
      "metadata": {
        "id": "23eda571-905c-4cd2-b4a5-096dd6de647e"
      },
      "source": [
        "## Brute Force Attack - Caesar Cipher\n",
        "\n",
        "The following code performs a brute force attack for a Caesar (or simple shift) cipher. It goes through each possible key that could be used and prints the result. This is simple, as the code does not recognize when the message has been decoded."
      ]
    },
    {
      "cell_type": "code",
      "execution_count": 9,
      "id": "832d87e5-b58a-487d-95d3-336520d9f7a9",
      "metadata": {
        "id": "832d87e5-b58a-487d-95d3-336520d9f7a9",
        "outputId": "9a7b1c30-7b37-408f-fd91-2ff060f3cb86",
        "colab": {
          "base_uri": "https://localhost:8080/"
        }
      },
      "outputs": [
        {
          "output_type": "stream",
          "name": "stdout",
          "text": [
            "Key #0: YTIFD NX RTSIFD\n",
            "Key #1: XSHEC MW QSRHEC\n",
            "Key #2: WRGDB LV PRQGDB\n",
            "Key #3: VQFCA KU OQPFCA\n",
            "Key #4: UPEBZ JT NPOEBZ\n",
            "Key #5: TODAY IS MONDAY\n",
            "Key #6: SNCZX HR LNMCZX\n",
            "Key #7: RMBYW GQ KMLBYW\n",
            "Key #8: QLAXV FP JLKAXV\n",
            "Key #9: PKZWU EO IKJZWU\n",
            "Key #10: OJYVT DN HJIYVT\n",
            "Key #11: NIXUS CM GIHXUS\n",
            "Key #12: MHWTR BL FHGWTR\n",
            "Key #13: LGVSQ AK EGFVSQ\n",
            "Key #14: KFURP ZJ DFEURP\n",
            "Key #15: JETQO YI CEDTQO\n",
            "Key #16: IDSPN XH BDCSPN\n",
            "Key #17: HCROM WG ACBROM\n",
            "Key #18: GBQNL VF ZBAQNL\n",
            "Key #19: FAPMK UE YAZPMK\n",
            "Key #20: EZOLJ TD XZYOLJ\n",
            "Key #21: DYNKI SC WYXNKI\n",
            "Key #22: CXMJH RB VXWMJH\n",
            "Key #23: BWLIG QA UWVLIG\n",
            "Key #24: AVKHF PZ TVUKHF\n",
            "Key #25: ZUJGE OY SUTJGE\n"
          ]
        }
      ],
      "source": [
        "message = \"YTIFD NX RTSIFD\" # test message\n",
        "\n",
        "# Every possible symbol that can be encrypted/decrypted:\n",
        "# (This must match the SYMBOLS used when encrypting the message.)\n",
        "SYMBOLS = 'ABCDEFGHIJKLMNOPQRSTUVWXYZ'\n",
        "\n",
        "for key in range(len(SYMBOLS)):  # Loop through every possible key.\n",
        "\n",
        "    translated = ''\n",
        "\n",
        "    # Decrypt each symbol in the message:\n",
        "    for symbol in message:\n",
        "\n",
        "        if symbol in SYMBOLS:\n",
        "\n",
        "            num = SYMBOLS.find(symbol)  # Get the number of the symbol.\n",
        "            num = num - key  # Decrypt the number.\n",
        "\n",
        "            # Handle the wrap-around if num is less than 0:\n",
        "            if num < 0:\n",
        "                num = num + len(SYMBOLS)\n",
        "\n",
        "            # Add decrypted number's symbol to translated:\n",
        "            translated = translated + SYMBOLS[num]\n",
        "\n",
        "        else:\n",
        "            # Just add the symbol without decrypting:\n",
        "            translated = translated + symbol\n",
        "\n",
        "    # Display the key being tested, along with its decrypted text:\n",
        "    print(f'Key #{key}: {translated}')"
      ]
    },
    {
      "cell_type": "markdown",
      "id": "bc4faa96-8263-43ed-ba6e-a24dcf988350",
      "metadata": {
        "id": "bc4faa96-8263-43ed-ba6e-a24dcf988350"
      },
      "source": [
        "### 🔍 Exploring the Code\n",
        "\n",
        "Write responses to the following questions:\n",
        "\n",
        "1. What error message do you get if you comment `translated = ''`. Why do you need this line?"
      ]
    },
    {
      "cell_type": "markdown",
      "id": "1eb86d91-4017-4a7d-b675-290d4e0017ea",
      "metadata": {
        "id": "1eb86d91-4017-4a7d-b675-290d4e0017ea"
      },
      "source": []
    },
    {
      "cell_type": "markdown",
      "id": "e947fafd-9ca8-4977-b2c2-580bac093e66",
      "metadata": {
        "id": "e947fafd-9ca8-4977-b2c2-580bac093e66"
      },
      "source": [
        "2. What happens if you change `translated = translated + SYMBOLS[num]` to `translated = translated + symbol`"
      ]
    },
    {
      "cell_type": "markdown",
      "id": "5893ef21-c4b5-48e6-958f-aefaca2d54c1",
      "metadata": {
        "id": "5893ef21-c4b5-48e6-958f-aefaca2d54c1"
      },
      "source": []
    },
    {
      "cell_type": "markdown",
      "id": "3a71f61b-a99a-4b20-bc1e-d65a1ae01b96",
      "metadata": {
        "id": "3a71f61b-a99a-4b20-bc1e-d65a1ae01b96"
      },
      "source": [
        "3. What happens if you enter an unencrypted message into the Caesar cipher brute force algorithm?"
      ]
    },
    {
      "cell_type": "markdown",
      "id": "88b75fa5-53f9-4700-93bd-10fb2235c502",
      "metadata": {
        "id": "88b75fa5-53f9-4700-93bd-10fb2235c502"
      },
      "source": []
    },
    {
      "cell_type": "markdown",
      "id": "21015c1e-1db5-4574-800d-2e6f5a1f971c",
      "metadata": {
        "id": "21015c1e-1db5-4574-800d-2e6f5a1f971c"
      },
      "source": [
        "### 🦾 Try it Yourself\n",
        "Turn the above code into a function that asks the user for the message to decrypt.\n",
        "\n",
        "Think about which pieces you need as input and how you will prompt the user"
      ]
    },
    {
      "cell_type": "code",
      "execution_count": null,
      "id": "f1b70f3d-66bb-4de4-8df2-b93cc9f4c9b5",
      "metadata": {
        "id": "f1b70f3d-66bb-4de4-8df2-b93cc9f4c9b5"
      },
      "outputs": [],
      "source": [
        "## Turn the above code into a function that asks the user for the message to decrypt\n",
        "\n",
        "\n"
      ]
    },
    {
      "cell_type": "markdown",
      "id": "255886b6-5cee-4f5d-8862-7ad89eada5d0",
      "metadata": {
        "id": "255886b6-5cee-4f5d-8862-7ad89eada5d0"
      },
      "source": [
        "## Frequency Analysis\n",
        "\n",
        "Don't worry about the code in this next section. The main thing we'll be focusing on is looking at the bar graphs the code generates. You'll be learning how to do these types of things yourself in the next major section we hit in this course."
      ]
    },
    {
      "cell_type": "code",
      "execution_count": 8,
      "id": "2b817fea-3305-4e0b-8c34-3a4ba2339090",
      "metadata": {
        "id": "2b817fea-3305-4e0b-8c34-3a4ba2339090",
        "outputId": "e5d5bfc5-754a-40d3-9dc8-35d00a2670ad",
        "colab": {
          "base_uri": "https://localhost:8080/",
          "height": 1000
        }
      },
      "outputs": [
        {
          "output_type": "display_data",
          "data": {
            "text/plain": [
              "<Figure size 1200x600 with 1 Axes>"
            ],
            "image/png": "[encoded data removed]"
          },
          "metadata": {}
        },
        {
          "output_type": "display_data",
          "data": {
            "text/plain": [
              "<Figure size 1200x600 with 1 Axes>"
            ],
            "image/png": "[encoded data removed]"
          },
          "metadata": {}
        }
      ],
      "source": [
        "# We'll be covering how to create plots and use pandas in the next section\n",
        "# this is only here for demonstration purposes\n",
        "\n",
        "# Define the letters and their frequencies\n",
        "letters = list(\"ABCDEFGHIJKLMNOPQRSTUVWXYZ\")\n",
        "frequencies = [\n",
        "    8.167, 1.492, 2.782, 4.253, 12.702, 2.228, 2.015, 6.094, 6.966,\n",
        "    0.153, 0.772, 4.025, 2.406, 6.749, 7.507, 1.929, 0.095, 5.987,\n",
        "    6.327, 9.056, 2.758, 0.978, 2.360, 0.150, 1.974, 0.074\n",
        "]\n",
        "\n",
        "### ALPHABETICAL ORDER\n",
        "char_freq = pd.DataFrame({'letter': letters, 'frequency': frequencies})\n",
        "# make bar plot in alphabetical order\n",
        "char_freq.plot(kind='bar', x='letter', y='frequency', legend=False, figsize=(12, 6), edgecolor='black')\n",
        "\n",
        "# Labeling the axes and adding a title\n",
        "plt.xlabel('Letters')\n",
        "plt.ylabel('Frequency (%)')\n",
        "plt.title('Frequency of Each Character in the English Language - Alphabetical Order')\n",
        "# Display the plot\n",
        "plt.show()\n",
        "\n",
        "### SORTED\n",
        "# create sorted dataframe based on frequency\n",
        "char_freq_sorted = char_freq.sort_values(by='frequency', ascending=False)\n",
        "# make bar plot ordered by frequency\n",
        "char_freq_sorted.plot(kind='bar', x='letter', y='frequency', legend=False, figsize=(12, 6), edgecolor='black')\n",
        "# Labeling the axes and adding a title\n",
        "plt.xlabel('Letters')\n",
        "plt.ylabel('Frequency (%)')\n",
        "plt.title('Frequency of Each Character in the English Language - Greatest to Least')\n",
        "# Display the plot\n",
        "plt.show()"
      ]
    },
    {
      "cell_type": "markdown",
      "id": "947aecff-3388-4c94-83a6-efb4e4117ca7",
      "metadata": {
        "id": "947aecff-3388-4c94-83a6-efb4e4117ca7"
      },
      "source": [
        "### Example Using Frequency Analsysis"
      ]
    },
    {
      "cell_type": "code",
      "execution_count": 7,
      "id": "fb3abf5b-9623-4a42-beba-b19057df0507",
      "metadata": {
        "id": "fb3abf5b-9623-4a42-beba-b19057df0507",
        "outputId": "482406aa-2bc1-435a-8a35-c2aa28219940",
        "colab": {
          "base_uri": "https://localhost:8080/",
          "height": 581
        }
      },
      "outputs": [
        {
          "output_type": "stream",
          "name": "stdout",
          "text": [
            "{'d': 4, 'o': 13, 'l': 38, 'u': 17, 'w': 11, 'v': 24, 's': 7, 'k': 8, 'a': 25, 'z': 28, 'j': 16, 'y': 20, 'f': 10, 't': 9, 'b': 8, 'p': 20, 'h': 14, 'n': 9, 'c': 3, 'x': 1, 'i': 3, 'm': 2}\n"
          ]
        },
        {
          "output_type": "display_data",
          "data": {
            "text/plain": [
              "<Figure size 1200x600 with 1 Axes>"
            ],
            "image/png": "[encoded data removed]"
          },
          "metadata": {}
        }
      ],
      "source": [
        "## original message\n",
        "msg = '''\n",
        "When people need to secretly store or communicate messages, they turn to cryptography.\n",
        "Cryptography involves using techniques to obscure a message so outsiders cannot read the message.\n",
        "It is typically split into two steps: encryption, in which the message is obscured, and decryption,\n",
        "in which the original message is recovered from the obscured form.\n",
        "'''\n",
        "## decrypted message\n",
        "encrypted_msg = '''DOLU WLVWSL ULLK AV ZLJYLASF ZAVYL VY JVTTBUPJHAL TLZZHNLZ, AOLF ABYU AV JYFWAVNYHWOF. JYFWAVNYHWOF PUCVSCLZ BZPUN ALJOUPXBLZ AV VIZJBYL H TLZZHNL ZV VBAZPKLYZ JHUUVA YLHK AOL TLZZHNL. PA PZ AFWPJHSSF ZWSPA PUAV ADV ZALWZ: LUJYFWAPVU, PU DOPJO AOL TLZZHNL PZ VIZJBYLK, HUK KLJYFWAPVU, PU DOPJO AOL VYPNPUHS TLZZHNL PZ YLJVCLYLK MYVT AOL VIZJBYLK MVYT.'''\n",
        "\n",
        "\n",
        "symbols = \"!\\\"#$%&'()*+,-./:;<=>?@[\\]^_`{|}~\"\n",
        "freq = {}\n",
        "\n",
        "\n",
        "encrypted_msg = encrypted_msg.lower() # makes string all lowercase\n",
        "\n",
        "# find frequency of characters in a message\n",
        "for c in encrypted_msg:\n",
        "    # doesn't do anything for punctuation or spaces\n",
        "    if c.isspace() or c in symbols:\n",
        "        continue\n",
        "    elif c in freq:\n",
        "        freq[c] += 1\n",
        "    else:\n",
        "        freq[c] = 1\n",
        "print(freq)\n",
        "\n",
        "# msg_car_freq = pd.DataFrame({'letter': letters, 'frequency': frequencies})\n",
        "keys = list(freq.keys())\n",
        "values = list(freq.values())\n",
        "\n",
        "msg_char_freq = pd.DataFrame({'letter' : keys, 'frequency' : values})\n",
        "# plt.bar(keys, values, color='skyblue', edgecolor='black')\n",
        "# make bar plot in alphabetical order\n",
        "sorted_msg_char_freq = msg_char_freq.sort_values(by='frequency', ascending=False)\n",
        "sorted_msg_char_freq.plot(kind='bar', x='letter', y='frequency', legend=False, figsize=(12, 6), edgecolor='black')\n",
        "\n",
        "# Labeling the axes and adding a title\n",
        "plt.xlabel('Letters')\n",
        "plt.ylabel('Frequency (%)')\n",
        "plt.title('Frequency of Each Character in the English Language - Alphabetical Order')\n",
        "# Display the plot\n",
        "plt.show()"
      ]
    },
    {
      "cell_type": "code",
      "execution_count": null,
      "id": "3e627b65-360e-47b7-afc7-12bb668686c1",
      "metadata": {
        "id": "3e627b65-360e-47b7-afc7-12bb668686c1"
      },
      "outputs": [],
      "source": []
    },
    {
      "cell_type": "code",
      "execution_count": null,
      "id": "3781dd93-e513-453a-b7fe-e941ab1de105",
      "metadata": {
        "id": "3781dd93-e513-453a-b7fe-e941ab1de105"
      },
      "outputs": [],
      "source": []
    },
    {
      "cell_type": "code",
      "execution_count": null,
      "id": "676edbee-63c3-448c-a6b9-0410bfeb408e",
      "metadata": {
        "id": "676edbee-63c3-448c-a6b9-0410bfeb408e"
      },
      "outputs": [],
      "source": []
    }
  ],
  "metadata": {
    "kernelspec": {
      "display_name": "Python 3 (ipykernel)",
      "language": "python",
      "name": "python3"
    },
    "language_info": {
      "codemirror_mode": {
        "name": "ipython",
        "version": 3
      },
      "file_extension": ".py",
      "mimetype": "text/x-python",
      "name": "python",
      "nbconvert_exporter": "python",
      "pygments_lexer": "ipython3",
      "version": "3.10.13"
    },
    "colab": {
      "provenance": []
    }
  },
  "nbformat": 4,
  "nbformat_minor": 5
}