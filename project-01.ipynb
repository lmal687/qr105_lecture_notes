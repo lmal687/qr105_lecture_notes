{
  "cells": [
    {
      "cell_type": "markdown",
      "id": "9496b0d9-98ae-42cd-a2cb-1184cf4e95f2",
      "metadata": {
        "id": "9496b0d9-98ae-42cd-a2cb-1184cf4e95f2"
      },
      "source": [
        "# Project 1: Creating TTRPG Tools"
      ]
    },
    {
      "cell_type": "code",
      "execution_count": null,
      "id": "588c0854-ea4b-464b-9cb1-b72323c071c9",
      "metadata": {
        "id": "588c0854-ea4b-464b-9cb1-b72323c071c9"
      },
      "outputs": [],
      "source": [
        "# Provide a brief summary of the project in your own words"
      ]
    },
    {
      "cell_type": "code",
      "execution_count": null,
      "id": "c6cd2f7a-b0ec-46ac-b492-5926a093a244",
      "metadata": {
        "id": "c6cd2f7a-b0ec-46ac-b492-5926a093a244"
      },
      "outputs": [],
      "source": []
    },
    {
      "cell_type": "markdown",
      "id": "6680210f-f9a2-4b10-993b-63f53162e55c",
      "metadata": {
        "id": "6680210f-f9a2-4b10-993b-63f53162e55c"
      },
      "source": [
        "## I. Introduction"
      ]
    },
    {
      "cell_type": "code",
      "execution_count": null,
      "id": "d9f1d29d-e584-4cb9-b7c1-f4887d201dd4",
      "metadata": {
        "id": "d9f1d29d-e584-4cb9-b7c1-f4887d201dd4"
      },
      "outputs": [],
      "source": [
        "# Explain the theme of your game.\n",
        "\n",
        "# Discuss any details you find interesting or fun\n",
        "\n"
      ]
    },
    {
      "cell_type": "markdown",
      "id": "141c8b7b-eaa8-4d78-a33f-0656d178483d",
      "metadata": {
        "id": "141c8b7b-eaa8-4d78-a33f-0656d178483d"
      },
      "source": [
        "## II. Character Generation"
      ]
    },
    {
      "cell_type": "code",
      "source": [
        "#---------------------------------------\n",
        "## Generic Character Traits for Sci-Fi\n",
        "#---------------------------------------\n",
        "## first names\n",
        "first_names = ['Raine', 'Brian', 'Indigo', 'Fred', 'Nancy']\n",
        "\n",
        "## last names\n",
        "last_names = ['Dewdrop', 'Evergrove', 'Silverbranch', 'Druid', 'Starlight']\n",
        "\n",
        "\n",
        "###-----------------------------\n",
        "### UTILITY FUNCTIONS\n",
        "###-----------------------------\n",
        "\n",
        "## Utility function to slow print to screen\n",
        "def slow_print(str, sleep_time=3./90):\n",
        "   for c in str + '\\n':\n",
        "     sys.stdout.write(c)\n",
        "     sys.stdout.flush()\n",
        "     time.sleep(sleep_time)\n",
        "\n",
        "def custom_wrap(text, width=65, indent=5):\n",
        "    wrapper = textwrap.TextWrapper(\n",
        "        width=width,\n",
        "        initial_indent=\"\",  # No indent for the first line\n",
        "        subsequent_indent=\" \" * indent  # Indent second and subsequent lines\n",
        "    )\n",
        "    return wrapper.fill(text)\n",
        "\n",
        "def wrap_with_blank_lines(text, width=65):\n",
        "    wrapped_lines = []\n",
        "    for paragraph in text.split('\\n'):\n",
        "        if paragraph.strip():  # Wrap non-blank lines\n",
        "            wrapped_lines.append(textwrap.fill(paragraph, width=width))\n",
        "        else:  # Preserve blank lines\n",
        "            wrapped_lines.append('')\n",
        "    return '\\n'.join(wrapped_lines)\n",
        "\n",
        "## Block of functions to randomly select character traits\n",
        "\n",
        "def name_generator():\n",
        "    '''Randomly selects a first and last name'''\n",
        "    character_name = random.choice(first_names) + ' ' + random.choice(last_names)\n",
        "\n",
        "    return character_name\n",
        "\n",
        "def role_selector():\n",
        "    '''Randomly select a ROLE'''\n",
        "    role = random.choice(list(roles.keys()))\n",
        "\n",
        "    die = roles[role]\n",
        "\n",
        "    return [role, die]\n",
        "\n",
        "def character_generator():\n",
        "    # randomly select initial traits\n",
        "    character = {\n",
        "        'name' : name_generator(),\n",
        "        'role' : role_selector()[0]\n",
        "    }\n",
        "\n",
        "    return character\n",
        "\n",
        "def print_character_sheet(character):\n",
        "    '''prints the character sheet'''\n",
        "    print(30*'~')\n",
        "    print(f\"{character['name']} - {character['class']}\")\n",
        "    print(30*'~')\n",
        "    print(f\"Role:   {character['role']} ({character['die']})\")\n",
        "\n",
        "def crew_generator(player_count):\n",
        "    '''Generates multiple characters to form a crew'''\n",
        "    # num_players = int(input('Enter the number of players'))\n",
        "\n",
        "    crew = []\n",
        "\n",
        "    if player_count < 5:\n",
        "\n",
        "        class_list = []\n",
        "\n",
        "        while len(crew) < player_count:\n",
        "            # for i in range(player_count):\n",
        "            crew_member = character_generator()\n",
        "\n",
        "            if crew_member['class'] not in class_list:\n",
        "                crew.append(crew_member)\n",
        "                class_list.append(crew_member['class'])\n",
        "    else:\n",
        "        # if more than 5 players, no one cares if there are repeats\n",
        "        for i in range(player_count):\n",
        "\n",
        "            crew.append(character_generator())\n",
        "\n",
        "    for member in crew:\n",
        "\n",
        "        print_character_sheet(member)\n",
        "        time.sleep(1)\n",
        "        print('')\n",
        "\n",
        "    return crew\n"
      ],
      "metadata": {
        "id": "qsvuzv9dk_uC"
      },
      "id": "qsvuzv9dk_uC",
      "execution_count": 79,
      "outputs": []
    },
    {
      "cell_type": "code",
      "execution_count": 70,
      "id": "e19ffd1c-0d17-4cc1-8e20-455fc27d7ca1",
      "metadata": {
        "id": "e19ffd1c-0d17-4cc1-8e20-455fc27d7ca1",
        "outputId": "c64d4a1e-4d50-468e-8338-10d48ca2cf1f",
        "colab": {
          "base_uri": "https://localhost:8080/"
        }
      },
      "outputs": [
        {
          "output_type": "stream",
          "name": "stdout",
          "text": [
            "Fred Starlight: The Tough One\n"
          ]
        }
      ],
      "source": [
        "# this is where you should place all cells that contain code or markdown\n",
        "# having to do with generating a character\n",
        "\n",
        "import random\n",
        "# first names\n",
        "first_names = [\n",
        "    'Raine',\n",
        "    'Brian',\n",
        "    'Indigo',\n",
        "    'Fred',\n",
        "    'Nancy'\n",
        "]\n",
        "\n",
        "# last names\n",
        "last_names = [\n",
        "    'Dewdrop',\n",
        "    'Evergrove',\n",
        "    'Silverbranch',\n",
        "    'Druid',\n",
        "    'Starlight'\n",
        "]\n",
        "\n",
        "# Character roles and their die\n",
        "role = {\n",
        "    'The Spooky One' : 'd4',\n",
        "    'The Observant One' : 'd6',\n",
        "    'The Likeable One' : 'd8',\n",
        "    'The Tough One' : 'd10'\n",
        "}\n",
        "\n",
        "random_name = random.choice(first_names) + ' ' + random.choice(last_names) + ': ' + random.choice(list(role.keys()))\n",
        "\n",
        "print(random_name)\n"
      ]
    },
    {
      "cell_type": "code",
      "source": [
        "# first names\n",
        "first_names = [\n",
        "    'Raine',\n",
        "    'Brian',\n",
        "    'Indigo',\n",
        "    'Fred',\n",
        "    'Nancy'\n",
        "]\n",
        "\n",
        "# last names\n",
        "last_names = [\n",
        "    'Dewdrop',\n",
        "    'Evergrove',\n",
        "    'Silverbranch',\n",
        "    'Druid',\n",
        "    'Starlight'\n",
        "]\n",
        "\n",
        "# Character roles and their die\n",
        "role = [\n",
        "    'The Spooky One' == 'd4'\n",
        "    'The Observant One' == 'd6',\n",
        "    'The Likeable One' == 'd8',\n",
        "    'The Tough One' == 'd10'\n",
        "]\n",
        "\n",
        "def name_generator():\n",
        "    '''Randomly selects a first and last name'''\n",
        "    character_name = random.choice(first_names) + ' ' + random.choice(last_names)\n",
        "\n",
        "    return character_name\n",
        "\n",
        "def role_selector():\n",
        "    '''Randomly select a ROLE'''\n",
        "    role = random.choice(list(roles.keys()))\n",
        "\n",
        "    die = roles[role]\n",
        "\n",
        "    return [role, die]"
      ],
      "metadata": {
        "id": "OlnhAqwiZTsA"
      },
      "id": "OlnhAqwiZTsA",
      "execution_count": 72,
      "outputs": []
    },
    {
      "cell_type": "markdown",
      "source": [
        "Taken from my coding activity 4"
      ],
      "metadata": {
        "id": "T7bqpgNzQMOP"
      },
      "id": "T7bqpgNzQMOP"
    },
    {
      "cell_type": "markdown",
      "id": "b771b28e-21d8-40df-925c-8706161eeecc",
      "metadata": {
        "id": "b771b28e-21d8-40df-925c-8706161eeecc"
      },
      "source": [
        "## III. Quest Generation"
      ]
    },
    {
      "cell_type": "code",
      "execution_count": 84,
      "id": "b5b87bcf-e30c-4cf5-858d-b3700bcf0d98",
      "metadata": {
        "id": "b5b87bcf-e30c-4cf5-858d-b3700bcf0d98",
        "outputId": "623f72fc-7895-4de2-8ab2-d39c6e8a4a81",
        "colab": {
          "base_uri": "https://localhost:8080/"
        }
      },
      "outputs": [
        {
          "output_type": "stream",
          "name": "stdout",
          "text": [
            "\n",
            "Your mission is to Retrieve shiny things\n",
            "at Readaville,\n",
            "but beware of Poisonous spiders.\n",
            "If successful, you will receive a Badge.\n",
            "\n"
          ]
        }
      ],
      "source": [
        "# this is where you should place all cells that contain code or markdown\n",
        "# having to do with generating a quest prompt\n",
        "\n",
        "# List of objectives, locations, obstacles, and rewards\n",
        "\n",
        "objectives = [\n",
        "    'Rescue a lost animal',\n",
        "    'Retrieve shiny things',\n",
        "    'Decode a secret message',\n",
        "    'Repair the Stagazing tower',\n",
        "    'Discover who mystery footprints belong to'\n",
        "]\n",
        "locations = [\n",
        "    'The City of Wisdom and Love',\n",
        "    'Fancy Fields',\n",
        "    'Limulidae Bay',\n",
        "    'Readaville',\n",
        "    'Rippling Rill'\n",
        "]\n",
        "obstacles = [\n",
        "    'Thick vines',\n",
        "    'Poisonous spiders',\n",
        "    'Slippery rocks',\n",
        "    'Angry bears',\n",
        "    'Sneaky raccoons'\n",
        "]\n",
        "rewards = [\n",
        "    'Book of spells',\n",
        "    'Flashlight',\n",
        "    'Canteen',\n",
        "    'Journal',\n",
        "    'Badge'\n",
        "]\n",
        "\n",
        "# Mission variables\n",
        "objective = random.choice(objectives)\n",
        "location = random.choice(locations)\n",
        "obstacle = random.choice(obstacles)\n",
        "reward = random.choice(rewards)\n",
        "\n",
        "# Quest prompt string\n",
        "quest = f'''\n",
        "Your mission is to {objective}\n",
        "at {location},\n",
        "but beware of {obstacle}.\n",
        "If successful, you will receive a {reward}.\n",
        "'''\n",
        "\n",
        "# Print quest\n",
        "print(quest)"
      ]
    },
    {
      "cell_type": "markdown",
      "source": [
        "Taken from my coding activity 4 and looked at Reggie's Rebel Scum code block"
      ],
      "metadata": {
        "id": "jTNzKkEHe3Ad"
      },
      "id": "jTNzKkEHe3Ad"
    },
    {
      "cell_type": "markdown",
      "id": "a6aea256-0e02-4006-a992-a340b217b233",
      "metadata": {
        "id": "a6aea256-0e02-4006-a992-a340b217b233"
      },
      "source": [
        "## IV. Dice Roller"
      ]
    },
    {
      "cell_type": "code",
      "execution_count": 34,
      "metadata": {
        "id": "85efe1ae-c622-490d-b756-82c83844711b"
      },
      "outputs": [],
      "source": [
        "# this is where you should place all cells that contain code or markdown\n",
        "# having to do with creating your dice roller\n",
        "\n",
        "def roll_dice(dice_type):\n",
        "  # dice set dictionary\n",
        "  dice_set = {\n",
        "      'd4' : 4,\n",
        "      'd6' : 6,\n",
        "      'd8' : 8,\n",
        "      'd10' : 10\n",
        "  }\n",
        "\n",
        "  roll = random.randint(1, dice_set[dice_type])\n",
        "\n",
        "  return roll"
      ],
      "id": "85efe1ae-c622-490d-b756-82c83844711b"
    },
    {
      "cell_type": "code",
      "source": [
        "print ('You rolled a', roll_dice('d4'))\n",
        "print ('You rolled a', roll_dice('d6'))\n",
        "print ('You rolled a', roll_dice('d10'))"
      ],
      "metadata": {
        "id": "ArCC02qDMzAR",
        "outputId": "137fff7d-62c9-47cc-a06c-ffe38d756bd3",
        "colab": {
          "base_uri": "https://localhost:8080/"
        }
      },
      "execution_count": 35,
      "outputs": [
        {
          "output_type": "stream",
          "name": "stdout",
          "text": [
            "You rolled a 4\n",
            "You rolled a 4\n",
            "You rolled a 5\n"
          ]
        }
      ],
      "id": "ArCC02qDMzAR"
    },
    {
      "cell_type": "markdown",
      "source": [
        "Taken from my coding activity 4"
      ],
      "metadata": {
        "id": "NSYkmC5AWTkv"
      },
      "id": "NSYkmC5AWTkv"
    },
    {
      "cell_type": "markdown",
      "id": "e90654de-67e9-4d4e-a546-6a872c753007",
      "metadata": {
        "id": "e90654de-67e9-4d4e-a546-6a872c753007"
      },
      "source": [
        "# V. Running a Game"
      ]
    },
    {
      "cell_type": "code",
      "execution_count": null,
      "id": "20ba0ff0-1df7-4962-8155-9be2df26a967",
      "metadata": {
        "id": "20ba0ff0-1df7-4962-8155-9be2df26a967"
      },
      "outputs": [],
      "source": [
        "# this is where you should place all cells that contain code or markdown\n",
        "# having to do with starting a mock game\n",
        "\n",
        "# Generate at least 2 character sheets\n",
        "# Generate at least 1 quest\n",
        "# Roll at least 3 times testing differetnt die and conditions"
      ]
    },
    {
      "cell_type": "code",
      "execution_count": 85,
      "id": "321a5053-e077-41cb-b9ce-f13a2337c596",
      "metadata": {
        "id": "321a5053-e077-41cb-b9ce-f13a2337c596"
      },
      "outputs": [],
      "source": [
        "# Character roles and their die\n",
        "\n",
        "# first names\n",
        "first_names = ['Raine','Brian', 'Indigo', 'Fred', 'Nancy']\n",
        "\n",
        "# last names\n",
        "last_names = ['Dewdrop', 'Evergrove', 'Silverbranch', 'Druid', 'Starlight']\n",
        "\n",
        "# character roles\n",
        "roles = {\n",
        "    'The Spooky One': 'd4',\n",
        "    'The Observant One': 'd6',\n",
        "    'The Likeable One': 'd8',\n",
        "    'The Tough One': 'd10'\n",
        "}\n",
        "\n",
        "def name_generator():\n",
        "    '''Randomly selects a first and last name'''\n",
        "    character_name = random.choice(first_names) + ' ' + random.choice(last_names)\n",
        "\n",
        "    return character_name\n",
        "\n",
        "def role_selector():\n",
        "    '''Randomly select a ROLE'''\n",
        "    role = random.choice(list(roles.keys()))\n",
        "\n",
        "    die = roles[role]\n",
        "\n",
        "    return [role, die]\n",
        "\n",
        "def character_generator():\n",
        "    # randomly select initial traits\n",
        "    character = {\n",
        "        'name' : name_generator(),\n",
        "        'role' : role_selector()[0]\n",
        "    }\n",
        "\n",
        "    return character_generator\n",
        "\n",
        "\n",
        "def crew_generator(player_count):\n",
        "    '''Generates multiple characters to form a crew'''\n",
        "    # num_players = int(input('Enter the number of players'))\n",
        "\n",
        "    crew = []\n",
        "\n",
        "    if player_count < 5:\n",
        "\n",
        "        class_list = []\n",
        "\n",
        "        while len(crew) < player_count:\n",
        "            # for i in range(player_count):\n",
        "            crew_member = character_generator()\n",
        "\n",
        "            if crew_member['class'] not in class_list:\n",
        "                crew.append(crew_member)\n",
        "                class_list.append(crew_member['class'])\n",
        "    else:\n",
        "        # if more than 5 players, no one cares if there are repeats\n",
        "        for i in range(player_count):\n",
        "\n",
        "            crew.append(character_generator())\n",
        "\n",
        "    for member in crew:\n",
        "\n",
        "        print_character_sheet(member)\n",
        "        time.sleep(1)\n",
        "        print('')\n"
      ]
    },
    {
      "cell_type": "code",
      "source": [
        "import random\n",
        "import time\n",
        "\n",
        "# First names\n",
        "first_names = ['Raine', 'Brian', 'Indigo', 'Fred', 'Nancy']\n",
        "\n",
        "# Last names\n",
        "last_names = ['Dewdrop', 'Evergrove', 'Silverbranch', 'Druid', 'Starlight']\n",
        "\n",
        "# Roles with corresponding dice values\n",
        "roles = {\n",
        "    'The Spooky One': 'd4',\n",
        "    'The Observant One': 'd6',\n",
        "    'The Likeable One': 'd8',\n",
        "    'The Tough One': 'd10'\n",
        "}\n",
        "\n",
        "def name_generator():\n",
        "    '''Randomly selects a first and last name'''\n",
        "    character_name = random.choice(first_names) + ' ' + random.choice(last_names)\n",
        "    return character_name\n",
        "\n",
        "def role_selector():\n",
        "    '''Randomly select a ROLE'''\n",
        "    role = random.choice(list(roles.keys()))\n",
        "    die = roles[role]\n",
        "    return {'role': role, 'die': die}\n",
        "\n",
        "def character_generator():\n",
        "    '''Creates a random scout with a name and role'''\n",
        "    scout = {\n",
        "        'name': name_generator(),\n",
        "        'role': role_selector()['role']\n",
        "    }\n",
        "    return scout\n",
        "\n",
        "def scouts_generator(player_count):\n",
        "    '''Generates multiple scouts to form a team'''\n",
        "    scouts = []\n",
        "\n",
        "    if player_count < 5:\n",
        "        role_list = []\n",
        "\n",
        "        while len(scouts) < player_count:\n",
        "            scout_member = character_generator()\n",
        "\n",
        "            if scout_member['role'] not in role_list:\n",
        "                scouts.append(scout_member)\n",
        "                role_list.append(scout_member['role'])\n",
        "    else:\n",
        "        for i in range(player_count):\n",
        "            scouts.append(character_generator())\n",
        "\n",
        "    for member in scouts:\n",
        "        print(member)\n",
        "        time.sleep(1)\n",
        "        print('')\n",
        "\n",
        "# Example Usage:\n",
        "scouts_generator(3)\n"
      ],
      "metadata": {
        "id": "RIVeZJ9Jhcnn",
        "outputId": "da8de403-77d1-46a2-83c9-8870ccce00ab",
        "colab": {
          "base_uri": "https://localhost:8080/"
        }
      },
      "id": "RIVeZJ9Jhcnn",
      "execution_count": 57,
      "outputs": [
        {
          "output_type": "stream",
          "name": "stdout",
          "text": [
            "{'name': 'Nancy Druid', 'role': 'The Spooky One'}\n",
            "\n",
            "{'name': 'Raine Druid', 'role': 'The Tough One'}\n",
            "\n",
            "{'name': 'Brian Silverbranch', 'role': 'The Likeable One'}\n",
            "\n"
          ]
        }
      ]
    },
    {
      "cell_type": "code",
      "source": [
        "import random\n",
        "import time\n",
        "\n",
        "# First names\n",
        "first_names = ['Raine', 'Brian', 'Indigo', 'Fred', 'Nancy']\n",
        "\n",
        "# Last names\n",
        "last_names = ['Dewdrop', 'Evergrove', 'Silverbranch', 'Druid', 'Starlight']\n",
        "\n",
        "# Roles with corresponding dice values\n",
        "roles = {\n",
        "    'The Spooky One': 'd4',\n",
        "    'The Observant One': 'd6',\n",
        "    'The Likeable One': 'd8',\n",
        "    'The Tough One': 'd10'\n",
        "}\n",
        "\n",
        "def name_generator():\n",
        "    '''Randomly selects a first and last name'''\n",
        "    return random.choice(first_names) + ' ' + random.choice(last_names)\n",
        "\n",
        "def role_selector():\n",
        "    '''Randomly select a ROLE'''\n",
        "    return random.choice(list(roles.keys()))\n",
        "\n",
        "def character_generator():\n",
        "    '''Creates a random scout with a name and role'''\n",
        "    return name_generator(), role_selector()\n",
        "\n",
        "def scouts_generator():\n",
        "    '''Generates multiple scouts to form a team based on user input'''\n",
        "    try:\n",
        "        player_count = int(input(\"Enter the number of scouts: \"))\n",
        "        if player_count <= 0:\n",
        "            print(\"Please enter a valid number greater than 0.\")\n",
        "            return scouts_generator()  # Restart input if invalid\n",
        "    except ValueError:\n",
        "        print(\"Invalid input. Please enter a number.\")\n",
        "        return scouts_generator()  # Restart input if invalid\n",
        "\n",
        "    scouts = []\n",
        "    role_list = []\n",
        "\n",
        "    if player_count < 5:\n",
        "        while len(scouts) < player_count:\n",
        "            scout = character_generator()\n",
        "            if scout[1] not in role_list:\n",
        "                scouts.append(scout)\n",
        "                role_list.append(scout[1])\n",
        "    else:\n",
        "        for _ in range(player_count):\n",
        "            scouts.append(character_generator())\n",
        "\n",
        "    print(\"\\nGenerated Scouts:\")\n",
        "    for scout in scouts:\n",
        "        print(f\"{scout[0]} - {scout[1]}\")\n",
        "        time.sleep(1)\n",
        "\n",
        "# Run the function\n",
        "scouts_generator()\n"
      ],
      "metadata": {
        "id": "L_Ji55SAh3e1",
        "outputId": "4048cbd2-a312-4903-c77f-46450dff6eac",
        "colab": {
          "base_uri": "https://localhost:8080/"
        }
      },
      "id": "L_Ji55SAh3e1",
      "execution_count": 58,
      "outputs": [
        {
          "output_type": "stream",
          "name": "stdout",
          "text": [
            "Enter the number of scouts: 4\n",
            "\n",
            "Generated Scouts:\n",
            "Brian Druid - The Spooky One\n",
            "Brian Silverbranch - The Observant One\n",
            "Brian Druid - The Tough One\n",
            "Fred Starlight - The Likeable One\n"
          ]
        }
      ]
    },
    {
      "cell_type": "code",
      "source": [
        "import random\n",
        "import time\n",
        "\n",
        "# First names\n",
        "first_names = ['Raine', 'Brian', 'Indigo', 'Fred', 'Nancy']\n",
        "\n",
        "# Last names\n",
        "last_names = ['Dewdrop', 'Evergrove', 'Silverbranch', 'Druid', 'Starlight']\n",
        "\n",
        "# Roles with corresponding dice values\n",
        "roles = {\n",
        "    'The Spooky One': 'd4',\n",
        "    'The Observant One': 'd6',\n",
        "    'The Likeable One': 'd8',\n",
        "    'The Tough One': 'd10'\n",
        "}\n",
        "\n",
        "def name_generator(available_first, available_last):\n",
        "    '''Randomly selects a first and last name without reuse'''\n",
        "    first = random.choice(available_first)\n",
        "    last = random.choice(available_last)\n",
        "    available_first.remove(first)\n",
        "    available_last.remove(last)\n",
        "    return f\"{first} {last}\"\n",
        "\n",
        "def role_selector():\n",
        "    '''Randomly select a ROLE'''\n",
        "    return random.choice(list(roles.keys()))\n",
        "\n",
        "def character_generator(available_first, available_last):\n",
        "    '''Creates a random scout with a unique name and role'''\n",
        "    return name_generator(available_first, available_last), role_selector()\n",
        "\n",
        "def scouts_generator():\n",
        "    '''Generates multiple scouts to form a team based on user input'''\n",
        "    try:\n",
        "        player_count = int(input(\"Enter the number of scouts: \"))\n",
        "        if player_count <= 0:\n",
        "            print(\"Please enter a valid number greater than 0.\")\n",
        "            return scouts_generator()\n",
        "        if player_count > min(len(first_names), len(last_names)):\n",
        "            print(f\"Maximum scouts limited to {min(len(first_names), len(last_names))} due to unique name constraints.\")\n",
        "            return scouts_generator()\n",
        "    except ValueError:\n",
        "        print(\"Invalid input. Please enter a number.\")\n",
        "        return scouts_generator()\n",
        "\n",
        "    available_first = first_names.copy()\n",
        "    available_last = last_names.copy()\n",
        "    scouts = []\n",
        "    role_list = []\n",
        "\n",
        "    if player_count < 5:\n",
        "        while len(scouts) < player_count:\n",
        "            scout = character_generator(available_first, available_last)\n",
        "            if scout[1] not in role_list:\n",
        "                scouts.append(scout)\n",
        "                role_list.append(scout[1])\n",
        "    else:\n",
        "        for _ in range(player_count):\n",
        "            scouts.append(character_generator(available_first, available_last))\n",
        "\n",
        "    print(\"\\nGenerated Scouts:\")\n",
        "    for scout in scouts:\n",
        "        print(f\"{scout[0]} - {scout[1]}\")\n",
        "        time.sleep(1)\n",
        "\n",
        "# Run the function\n",
        "scouts_generator()\n"
      ],
      "metadata": {
        "id": "AbdmIZuziGHj",
        "outputId": "d5610a95-b84a-4b73-e6e1-fb33bf0506e3",
        "colab": {
          "base_uri": "https://localhost:8080/"
        }
      },
      "id": "AbdmIZuziGHj",
      "execution_count": 63,
      "outputs": [
        {
          "output_type": "stream",
          "name": "stdout",
          "text": [
            "Enter the number of scouts: 3\n",
            "\n",
            "Generated Scouts:\n",
            "Fred Starlight - The Likeable One\n",
            "Indigo Druid - The Spooky One\n",
            "Brian Evergrove - The Observant One\n"
          ]
        }
      ]
    },
    {
      "cell_type": "markdown",
      "id": "0c74c90c-e726-4fd3-8322-50cbb1f71124",
      "metadata": {
        "id": "0c74c90c-e726-4fd3-8322-50cbb1f71124"
      },
      "source": [
        "## IV. Conclusions & Final Thoughts"
      ]
    },
    {
      "cell_type": "code",
      "execution_count": null,
      "id": "41f4bf2a-5451-4863-ad6f-ba69b5104f9d",
      "metadata": {
        "id": "41f4bf2a-5451-4863-ad6f-ba69b5104f9d"
      },
      "outputs": [],
      "source": [
        "# Obstacles or difficulties you had in working through the code\n",
        "# and how you overcame them (or why you did not)\n",
        "\n",
        "# What are some ways you could use the structures you create in this project\n",
        "# in tasks or projects you work on outside of this class? In teaching in general?\n",
        "\n",
        "# Discuss your use of generative AI in this project (or why you chose not to use it).\n",
        "# Did you find it helpful, not helpful? Why or why not?\n",
        "\n",
        "# Features you would like to add in the future if given more time or Python knowledge"
      ]
    }
  ],
  "metadata": {
    "kernelspec": {
      "display_name": "Python 3 (ipykernel)",
      "language": "python",
      "name": "python3"
    },
    "language_info": {
      "codemirror_mode": {
        "name": "ipython",
        "version": 3
      },
      "file_extension": ".py",
      "mimetype": "text/x-python",
      "name": "python",
      "nbconvert_exporter": "python",
      "pygments_lexer": "ipython3",
      "version": "3.10.13"
    },
    "colab": {
      "provenance": []
    }
  },
  "nbformat": 4,
  "nbformat_minor": 5
}